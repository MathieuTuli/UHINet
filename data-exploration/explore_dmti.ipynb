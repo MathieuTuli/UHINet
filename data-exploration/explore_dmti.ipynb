{
 "cells": [
  {
   "cell_type": "code",
   "execution_count": 6,
   "metadata": {},
   "outputs": [],
   "source": [
    "from matplotlib import pyplot as plt\n",
    "from shapely.geometry import Polygon\n",
    "import geopandas as gpd\n",
    "import rasterio"
   ]
  },
  {
   "cell_type": "code",
   "execution_count": 10,
   "metadata": {},
   "outputs": [],
   "source": [
    "fp = '/home/mat/github/U-of-T/capstone/MMCanada-capstone/data-exploration/dmti-spatial/CanMap_RouteLogistics_MapInfo/CanMap_RouteLogistics_MapInfo/WGS84/CanMapRL/OAKVL/POI/OAKVLaer.tab'\n",
    "data = gpd.read_file(fp, driver='MapInfo File')\n",
    "\n"
   ]
  },
  {
   "cell_type": "code",
   "execution_count": 11,
   "metadata": {},
   "outputs": [
    {
     "data": {
      "text/html": [
       "<div>\n",
       "<style scoped>\n",
       "    .dataframe tbody tr th:only-of-type {\n",
       "        vertical-align: middle;\n",
       "    }\n",
       "\n",
       "    .dataframe tbody tr th {\n",
       "        vertical-align: top;\n",
       "    }\n",
       "\n",
       "    .dataframe thead th {\n",
       "        text-align: right;\n",
       "    }\n",
       "</style>\n",
       "<table border=\"1\" class=\"dataframe\">\n",
       "  <thead>\n",
       "    <tr style=\"text-align: right;\">\n",
       "      <th></th>\n",
       "      <th>NAME</th>\n",
       "      <th>CITY</th>\n",
       "      <th>PROV</th>\n",
       "      <th>ICAO_CODE</th>\n",
       "      <th>IATA_CODE</th>\n",
       "      <th>AER_TYPE</th>\n",
       "      <th>STATUS</th>\n",
       "      <th>NAME_ALIAS</th>\n",
       "      <th>PREC_CODE</th>\n",
       "      <th>ATTRIBCODE</th>\n",
       "      <th>POI_ID</th>\n",
       "      <th>geometry</th>\n",
       "    </tr>\n",
       "  </thead>\n",
       "  <tbody>\n",
       "    <tr>\n",
       "      <td>0</td>\n",
       "      <td>OAKVILLE (TRAFALGAR MEM HOSP)</td>\n",
       "      <td>OAKVILLE</td>\n",
       "      <td>ON</td>\n",
       "      <td>CPE8</td>\n",
       "      <td>PE8</td>\n",
       "      <td>HELIPORT</td>\n",
       "      <td>ACTIVE</td>\n",
       "      <td>OAKVILLE (TRAFALGAR MEM HOSP) HELIPORT</td>\n",
       "      <td>3</td>\n",
       "      <td>1</td>\n",
       "      <td>POI2176505</td>\n",
       "      <td>POINT (-79.671629 43.474095)</td>\n",
       "    </tr>\n",
       "  </tbody>\n",
       "</table>\n",
       "</div>"
      ],
      "text/plain": [
       "                            NAME      CITY PROV ICAO_CODE IATA_CODE  AER_TYPE  \\\n",
       "0  OAKVILLE (TRAFALGAR MEM HOSP)  OAKVILLE   ON      CPE8       PE8  HELIPORT   \n",
       "\n",
       "   STATUS                              NAME_ALIAS PREC_CODE ATTRIBCODE  \\\n",
       "0  ACTIVE  OAKVILLE (TRAFALGAR MEM HOSP) HELIPORT         3          1   \n",
       "\n",
       "       POI_ID                      geometry  \n",
       "0  POI2176505  POINT (-79.671629 43.474095)  "
      ]
     },
     "execution_count": 11,
     "metadata": {},
     "output_type": "execute_result"
    }
   ],
   "source": [
    "data"
   ]
  },
  {
   "cell_type": "code",
   "execution_count": null,
   "metadata": {},
   "outputs": [],
   "source": []
  }
 ],
 "metadata": {
  "kernelspec": {
   "display_name": "venv",
   "language": "python",
   "name": "venv"
  },
  "language_info": {
   "codemirror_mode": {
    "name": "ipython",
    "version": 3
   },
   "file_extension": ".py",
   "mimetype": "text/x-python",
   "name": "python",
   "nbconvert_exporter": "python",
   "pygments_lexer": "ipython3",
   "version": "3.7.4"
  }
 },
 "nbformat": 4,
 "nbformat_minor": 4
}
